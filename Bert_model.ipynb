{
  "nbformat": 4,
  "nbformat_minor": 0,
  "metadata": {
    "colab": {
      "provenance": [],
      "authorship_tag": "ABX9TyP5JzcN2xpbtXo2BSc7EPvS",
      "include_colab_link": true
    },
    "kernelspec": {
      "name": "python3",
      "display_name": "Python 3"
    },
    "language_info": {
      "name": "python"
    }
  },
  "cells": [
    {
      "cell_type": "markdown",
      "metadata": {
        "id": "view-in-github",
        "colab_type": "text"
      },
      "source": [
        "<a href=\"https://colab.research.google.com/github/Ilya2raev/NLP_model/blob/main/Bert_model.ipynb\" target=\"_parent\"><img src=\"https://colab.research.google.com/assets/colab-badge.svg\" alt=\"Open In Colab\"/></a>"
      ]
    },
    {
      "cell_type": "code",
      "source": [
        "!pip install -e git+https://github.com/negedng/bert-embedding#egg=bert_embedding\n",
        "from bert_embedding import BertEmbedding\n",
        "bert_E = BertEmbedding()"
      ],
      "metadata": {
        "id": "o3t-LpTmKxMb"
      },
      "execution_count": null,
      "outputs": []
    },
    {
      "cell_type": "code",
      "source": [
        "!pip3 install spacy==2.1.9\n",
        "!pip3 install pymorphy2==0.8"
      ],
      "metadata": {
        "id": "S6GJgti4Ky4C"
      },
      "execution_count": null,
      "outputs": []
    },
    {
      "cell_type": "code",
      "source": [
        "!git clone -b v2.1 https://github.com/buriy/spacy-ru.git\n",
        "!cp -r ./spacy-ru/ru2/ ."
      ],
      "metadata": {
        "id": "ovB3boKVLlFG"
      },
      "execution_count": null,
      "outputs": []
    },
    {
      "cell_type": "code",
      "execution_count": 4,
      "metadata": {
        "id": "vqOmKtXsyOaL"
      },
      "outputs": [],
      "source": [
        "import nltk\n",
        "import nltk.translate.bleu_score as bleu\n",
        "import nltk.translate.gleu_score as gleu\n",
        "import spacy\n",
        "import ru2\n",
        "\n",
        "import math\n",
        "import numpy as np\n",
        "\n",
        "try:\n",
        "  nltk.data.find('tokenizers/punkt')\n",
        "except LookupError:\n",
        "  nltk.download('punkt')"
      ]
    },
    {
      "cell_type": "code",
      "source": [
        "nlp = spacy.load('ru2')"
      ],
      "metadata": {
        "id": "aCNxjCfOM566"
      },
      "execution_count": 5,
      "outputs": []
    },
    {
      "cell_type": "code",
      "source": [
        "def token_list(embeddings, no_sep=False):\n",
        "    \"\"\"\n",
        "    Returns with the tokens of the embedding data from the BertEmbedding.\n",
        "\n",
        "    Params:\n",
        "        embeddings: The embedding data from BertEmbedding\n",
        "        no_sep: If True, the separators are trimmed.\n",
        "    Return:\n",
        "        tokens: list of tokens\n",
        "    \"\"\"\n",
        "    if no_sep:\n",
        "        return embeddings[0][0][1:-1]\n",
        "    return embeddings[0][0]\n",
        "\n",
        "def sentence_embs(embeddings):\n",
        "    \"\"\"Return with the sentence level embeddings\"\"\"\n",
        "    return embeddings[0][1][0]\n",
        "\n",
        "def prep(sentence):\n",
        "    \"\"\"Return with tokens and sentence level embeddings\"\"\"\n",
        "    embs = bert_E([sentence], filter_spec_tokens=False)\n",
        "    tokens = token_list(embs, no_sep=True)\n",
        "    se = sentence_embs(embs)\n",
        "    return tokens, se\n",
        "\n",
        "def map_function(x, type='exp', n=0.2):\n",
        "    \"\"\"\n",
        "    Map 0-inf to 1-0 with some function\n",
        "    \n",
        "    Type:\n",
        "        inverse: 1/(1+n*x)\n",
        "        arctan: 1-2/pi*arctan(x)\n",
        "        exp: (1/(1+n))^x\n",
        "    \"\"\"\n",
        "    if type == 'inverse':\n",
        "        return 1 / (1+n*x)\n",
        "    elif type == 'arctan':\n",
        "        return 1 - 2 / math.pi * math.atan(n*x)\n",
        "    elif type == 'exp':\n",
        "        return (1/(1+n)) ** x\n",
        "    else:\n",
        "        raise(NotImplementedError(\"Function not implemented\"))\n",
        "\n",
        "def square_root(x):\n",
        "    return math.sqrt(sum([i*i for i in x]))\n",
        "\n",
        "def cosine_similarity(x, y):\n",
        "    numerator = sum(a * b for a, b in zip(x, y))\n",
        "    denominator = square_root(x) * square_root(y)\n",
        "    return numerator / float(denominator)"
      ],
      "metadata": {
        "id": "T_skOR-noAkl"
      },
      "execution_count": 6,
      "outputs": []
    },
    {
      "cell_type": "code",
      "source": [
        "s0 = 'Экология - наука, изучающая взаимодействие живых, а также организацию и функционирование биологических систем'\n",
        "s1 = 'Экология - наука, изучающая живые организмы, их функционирование и внутривидовое и внешневидовое воздействие'"
      ],
      "metadata": {
        "id": "qTDBXrYooDZe"
      },
      "execution_count": 36,
      "outputs": []
    },
    {
      "cell_type": "code",
      "source": [
        "r0, e0 = prep(s0)\n",
        "r1, e1 = prep(s1)"
      ],
      "metadata": {
        "id": "iHZhfyNjo2n9"
      },
      "execution_count": 37,
      "outputs": []
    },
    {
      "cell_type": "code",
      "source": [
        "t0 = nlp(s0)\n",
        "t1 = nlp(s1)"
      ],
      "metadata": {
        "id": "egeAYVDYo5if"
      },
      "execution_count": 38,
      "outputs": []
    },
    {
      "cell_type": "code",
      "source": [
        "SmoothingFunction = nltk.translate.bleu_score.SmoothingFunction()"
      ],
      "metadata": {
        "id": "DOdhWEZ1o6tD"
      },
      "execution_count": 39,
      "outputs": []
    },
    {
      "cell_type": "code",
      "source": [
        "print(\"r0-r0 bleu score: \", bleu.sentence_bleu([r0], r0, smoothing_function=SmoothingFunction.method0))\n",
        "print(\"r0-r1 bleu score: \", bleu.sentence_bleu([r1], r0, smoothing_function=SmoothingFunction.method0))\n",
        "print(\"__________________________________________\")\n",
        "print(\"r0-r0 bleu score: \", bleu.sentence_bleu([r0], r0, smoothing_function=SmoothingFunction.method2))\n",
        "print(\"r0-r1 bleu score: \", bleu.sentence_bleu([r1], r0, smoothing_function=SmoothingFunction.method2))\n",
        "print(\"__________________________________________\")\n",
        "print(\"r0-r0 gleu score: \", gleu.sentence_gleu([r0], r0))\n",
        "print(\"r0-r1 gleu score: \", gleu.sentence_gleu([r1], r0))\n",
        "print(\"__________________________________________\")\n",
        "print(\"e0-e0 Euclid distance:\", np.linalg.norm(e0-e0))\n",
        "print(\"e0-e1 Euclid distance:\", np.linalg.norm(e1-e0))\n",
        "print(\"__________________________________________\")\n",
        "print(\"e0-e0 Euclid distance:\", str(map_function(np.linalg.norm(e0-e0))))\n",
        "print(\"e0-e1 Euclid distance:\", str(map_function(np.linalg.norm(e1-e0))))\n",
        "print(\"__________________________________________\")\n",
        "print(\"e0-e0 cosine-similarity:\", cosine_similarity(e0,e0))\n",
        "print(\"e0-e1 cosine-similarity:\", cosine_similarity(e1,e0))\n",
        "print(\"__________________________________________\")\n",
        "print(\"t0-t0 spacy similarity\", t0.similarity(t0))\n",
        "print(\"t0-t1 spacy similarity\", t1.similarity(t0))"
      ],
      "metadata": {
        "id": "c7_d6AcwpAvS"
      },
      "execution_count": null,
      "outputs": []
    },
    {
      "cell_type": "code",
      "source": [
        "def validate_bleu_gleu(value):\n",
        "  return 1 if value > 0.2 else 0\n",
        "\n",
        "def validate_euclid(value):\n",
        "  return 1 if float(value) > 0.3 else 0\n",
        "\n",
        "def validate_cosine(value):\n",
        "  return 1 if value > 0.9 else 0\n",
        "\n",
        "def validate_spacy(value):\n",
        "  return 1 if value > 0.65 else 0"
      ],
      "metadata": {
        "id": "Ru2x40XNrmof"
      },
      "execution_count": 41,
      "outputs": []
    },
    {
      "cell_type": "code",
      "source": [
        "if all([validate_bleu_gleu(bleu.sentence_bleu([r1], r0, smoothing_function=SmoothingFunction.method2)),\n",
        "       validate_bleu_gleu(gleu.sentence_gleu([r1], r0)),\n",
        "       validate_euclid(str(map_function(np.linalg.norm(e1-e0)))),\n",
        "       validate_cosine(cosine_similarity(e1,e0)),\n",
        "       validate_spacy(t1.similarity(t0))\n",
        "       ]) == 1:\n",
        "       print('Решение можно рекомендовать')\n",
        "else:\n",
        "  print('Ответ неточный или требуется пояснение')"
      ],
      "metadata": {
        "id": "U6nZqyX-sVaW"
      },
      "execution_count": null,
      "outputs": []
    }
  ]
}